{
 "cells": [
  {
   "cell_type": "markdown",
   "id": "7acfb2f5-839c-447f-bf82-bd9915f872ef",
   "metadata": {},
   "source": [
    "# Datasets\n",
    "1. geoportal_doh_poi_health.csv - DOH health facilities from the GeoPortal platform\n",
    "2. osm_poi_health.csv - OpenStreetMap (OSM) health facilities available for each barangay\n",
    "3. mapbox_health_facility_brgy_isochrones.csv - % accessible barangay population within a 5-30 minutes travel time from nearest health facility based on the Mapbox Isochrones API\n",
    "4. worldpop_population.csv - gridded barangay population estimates from WorldPop\n",
    "5. disease_lgu_disaggregated_totals.csv - baranggay-level age and sex-disaggregated disease deaths (mortality) and cases (morbidity) from reports submitted by the LGU to DOH-Field Health Services Information System (DOH-FHSIS) or Department of Health- Philippine Integrated Disease Surveillance and Response (DOH-PISDR)\n",
    "\n",
    "link: https://data.humdata.org/dataset/project-cchain\n"
   ]
  },
  {
   "cell_type": "code",
   "execution_count": null,
   "id": "3b1d7dc8-8464-487e-a923-9086dd0f380f",
   "metadata": {},
   "outputs": [],
   "source": [
    "# Loading Datasets\n"
   ]
  }
 ],
 "metadata": {
  "kernelspec": {
   "display_name": "Python 3 (ipykernel)",
   "language": "python",
   "name": "python3"
  },
  "language_info": {
   "codemirror_mode": {
    "name": "ipython",
    "version": 3
   },
   "file_extension": ".py",
   "mimetype": "text/x-python",
   "name": "python",
   "nbconvert_exporter": "python",
   "pygments_lexer": "ipython3",
   "version": "3.12.9"
  }
 },
 "nbformat": 4,
 "nbformat_minor": 5
}
